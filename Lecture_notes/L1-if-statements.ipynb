{
 "cells": [
  {
   "cell_type": "markdown",
   "metadata": {},
   "source": [
    "\n",
    "<a href=\"https://colab.research.google.com/github/kokchun/Python-course-AI22/blob/main/Lecture_notes/L1-if-statements.ipynb\" target=\"_parent\"><img align=\"left\" src=\"https://colab.research.google.com/assets/colab-badge.svg\" alt=\"Open In Colab\"/></a> &nbsp; for interacting with the code"
   ]
  },
  {
   "cell_type": "markdown",
   "metadata": {},
   "source": [
    "---\n",
    "# Lecture notes - if-statement\n",
    "\n",
    "---\n",
    "This is the lecture note for **if-statements**, but it's built upon contents from previous lectures such as: \n",
    "- input-output\n",
    "- variables\n",
    "---"
   ]
  },
  {
   "cell_type": "markdown",
   "metadata": {},
   "source": [
    "## if-else\n",
    "\n",
    "if-statement is a construct called *conditional statement* which is used for handling decisions. Note the syntax with \"colon\" operator \":\" and the indentation to define a scope in the code (other languages use curly braces {})\n",
    "\n",
    "```python\n",
    "if condition: \n",
    "    statements\n",
    "    ... \n",
    "else: \n",
    "    statements\n",
    "    ...\n",
    "```\n",
    "condition is a so called **boolean** which evaluates to either True or False\n",
    "\n",
    "<img src=\"../assets/if-else-flowchart.png\" width=150/>\n",
    "\n",
    "Read more\n",
    "[w3schools - if..else](https://www.w3schools.com/python/python_conditions.asp)"
   ]
  },
  {
   "cell_type": "code",
   "execution_count": 2,
   "metadata": {},
   "outputs": [
    {
     "name": "stdout",
     "output_type": "stream",
     "text": [
      "Sorry, you are too young to watch this scary movie\n",
      "Watch this cartoon instead\n"
     ]
    }
   ],
   "source": [
    "age = int(input(\"Enter your age:\")) # 14\n",
    "age_limit = 15\n",
    "\n",
    "# note the syntax:\n",
    "if age < age_limit:\n",
    "    print(\"Sorry, you are too young to watch this scary movie\")\n",
    "    print(\"Watch this cartoon instead\")\n",
    "else:\n",
    "    print(\"Enjoy this scary movie\")"
   ]
  },
  {
   "cell_type": "code",
   "execution_count": null,
   "metadata": {},
   "outputs": [],
   "source": []
  },
  {
   "cell_type": "code",
   "execution_count": 3,
   "metadata": {},
   "outputs": [
    {
     "name": "stdout",
     "output_type": "stream",
     "text": [
      "Du får åka balder\n"
     ]
    }
   ],
   "source": [
    "age = 15 \n",
    "height = 150\n",
    "\n",
    "if age > 11 and 130 < height < 210:\n",
    "    print(\"Du får åka balder\")\n",
    "else: \n",
    "    print(\"Du får inte åka balder\")"
   ]
  },
  {
   "cell_type": "markdown",
   "metadata": {},
   "source": [
    "### Modulo operator\n",
    "\n",
    "Gives the remainder of a division. Example: \n",
    "\n",
    "```\n",
    "5 % 3 = 2 # read out \"5 mod 3\"\n",
    "9 % 3 = 0\n",
    "```"
   ]
  },
  {
   "cell_type": "code",
   "execution_count": 4,
   "metadata": {},
   "outputs": [
    {
     "name": "stdout",
     "output_type": "stream",
     "text": [
      "Odd number\n"
     ]
    }
   ],
   "source": [
    "number = 5\n",
    "if number % 2 == 0: \n",
    "    print(\"Even number\")\n",
    "else:\n",
    "    print(\"Odd number\")"
   ]
  },
  {
   "cell_type": "markdown",
   "metadata": {},
   "source": [
    "---\n",
    "## if - elif - else\n",
    "\n",
    "```python\n",
    "if condition: \n",
    "    statements \n",
    "    ...\n",
    "elif condition: \n",
    "    statements\n",
    "    ...\n",
    "...\n",
    "elif condition:\n",
    "    statements\n",
    "    ...\n",
    "else:\n",
    "    statements\n",
    "    ...\n",
    "```\n",
    "Example: \n",
    "\n",
    "<img src=\"../assets/if-elif-else.png\" width=250>"
   ]
  },
  {
   "cell_type": "code",
   "execution_count": null,
   "metadata": {},
   "outputs": [
    {
     "name": "stdout",
     "output_type": "stream",
     "text": [
      "Give patient 1000mg\n"
     ]
    }
   ],
   "source": [
    "weight = float(input(\"What is your weight? (kg) \")) # 40\n",
    "if weight  > 20:\n",
    "    print(\"Give patient 500mg\")\n",
    "elif weight < 40:\n",
    "    print(\"Give patient 750mg\")\n",
    "else:\n",
    "    print(\"Give patient 1000mg\")"
   ]
  },
  {
   "cell_type": "markdown",
   "metadata": {},
   "source": [
    "---\n",
    "## Logical operators\n",
    "\n",
    "| Name                    | Symbol |   Example    | Result |\n",
    "| ----------------------- | :----: | :----------: | ------ |\n",
    "| Less than               |   <    |     3<2      | False  |\n",
    "| Less than or equal to   |   <=   |     3<=3     | True   |\n",
    "| Larger than             |   >    |     3>2      | True   |\n",
    "| Larger than or equal to |   >=   |    -3>=4     | False  |\n",
    "| Equal to                |   ==   |     3==3     | True   |\n",
    "| Not equal               |   !=   |     3!=2     | True   |\n",
    "| And operator            |  and   | 3==2 and 3>2 | False  |\n",
    "| Or operator             |   or   | 3==2 or 3>2  | True   |\n",
    "| Not operator            |   not  | not 3==2     | True   |"
   ]
  },
  {
   "cell_type": "code",
   "execution_count": 13,
   "metadata": {},
   "outputs": [
    {
     "name": "stdout",
     "output_type": "stream",
     "text": [
      "True and False gives: False\n",
      "True or False gives: True\n",
      "False or False gives: False\n",
      "True and True gives: True\n",
      "True or True gives: True\n"
     ]
    }
   ],
   "source": [
    "print(f\"True and False gives: {True and False}\")\n",
    "print(f\"True or False gives: {True or False}\")\n",
    "print(f\"False or False gives: {False or False}\")\n",
    "print(f\"True and True gives: {True and True}\")\n",
    "print(f\"True or True gives: {True or True}\")"
   ]
  },
  {
   "cell_type": "markdown",
   "metadata": {},
   "source": [
    "---\n",
    "## Nested if-statements\n",
    "\n",
    "if-statement within an if-statement"
   ]
  },
  {
   "cell_type": "code",
   "execution_count": 15,
   "metadata": {},
   "outputs": [
    {
     "name": "stdout",
     "output_type": "stream",
     "text": [
      "-100 is divisible by 5\n",
      "-100 is an even number\n"
     ]
    }
   ],
   "source": [
    "number = int(input(\"Give an integer: \")) #-100\n",
    "\n",
    "# if a number is divisible by 5, check if it also is even\n",
    "if number % 5 == 0: \n",
    "    print(f\"{number} is divisible by 5\")\n",
    "    if number % 2 == 0:\n",
    "        print(f\"{number} is an even number\")\n",
    "    else:\n",
    "        print(f\"{number} is an odd number\")"
   ]
  },
  {
   "cell_type": "markdown",
   "metadata": {},
   "source": [
    "---\n",
    "## One line if-statements\n",
    "\n",
    "When there is one statement, you can use one line if or one line if-else.\n",
    "\n",
    "Note: don't overuse this structure just because you can. Always favor code that maximizes readability. "
   ]
  },
  {
   "cell_type": "code",
   "execution_count": 19,
   "metadata": {},
   "outputs": [
    {
     "name": "stdout",
     "output_type": "stream",
     "text": [
      "Hi ms Olivia\n"
     ]
    }
   ],
   "source": [
    "name = \"Olivia\"\n",
    "gender = \"female\"\n",
    "\n",
    "# one line if \n",
    "if \"o\" in name: print(f\"{name} contains the letter 'o'\") \n",
    "\n",
    "# one line if-else\n",
    "print(f\"Hi mr {name}\") if gender == \"male\" else print(f\"Hi ms {name}\")\n"
   ]
  },
  {
   "cell_type": "markdown",
   "metadata": {},
   "source": [
    "---\n",
    "\n",
    "Kokchun Giang\n",
    "\n",
    "[LinkedIn][linkedIn_kokchun]\n",
    "\n",
    "[GitHub portfolio][github_portfolio]\n",
    "\n",
    "[linkedIn_kokchun]: https://www.linkedin.com/in/kokchungiang/\n",
    "[github_portfolio]: https://github.com/kokchun/Portfolio-Kokchun-Giang\n",
    "\n",
    "---"
   ]
  }
 ],
 "metadata": {
  "kernelspec": {
   "display_name": "Python 3.9.6 64-bit",
   "language": "python",
   "name": "python3"
  },
  "language_info": {
   "codemirror_mode": {
    "name": "ipython",
    "version": 3
   },
   "file_extension": ".py",
   "mimetype": "text/x-python",
   "name": "python",
   "nbconvert_exporter": "python",
   "pygments_lexer": "ipython3",
   "version": "3.9.6"
  },
  "orig_nbformat": 4,
  "vscode": {
   "interpreter": {
    "hash": "0da836a34428266995a795f1e1e27b816fa1c02f148d9728b3fbbbc5459afca6"
   }
  }
 },
 "nbformat": 4,
 "nbformat_minor": 2
}
