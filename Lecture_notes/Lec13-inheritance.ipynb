{
 "cells": [
  {
   "cell_type": "markdown",
   "metadata": {},
   "source": [
    "\n",
    "<a href=\"https://colab.research.google.com/github/kokchun/Python-course-AI22/blob/main/Lectures/Lec13-inheritance.ipynb\" target=\"_parent\"><img align=\"left\" src=\"https://colab.research.google.com/assets/colab-badge.svg\" alt=\"Open In Colab\"/></a> &nbsp; for interacting with the code"
   ]
  },
  {
   "cell_type": "markdown",
   "metadata": {},
   "source": [
    "---\n",
    "# Lecture notes - OOP inheritance and composition\n",
    "\n",
    "---\n",
    "This is the lecture note for **OOP inheritance** - but it's built upon contents from previous lectures such as: \n",
    "- input-output\n",
    "- variables\n",
    "- if-statement\n",
    "- for loop\n",
    "- while \n",
    "- lists\n",
    "- random\n",
    "- strings\n",
    "- functions\n",
    "- error handling\n",
    "- file handling\n",
    "- dictionary\n",
    "- OOP\n",
    "\n",
    "<p class = \"alert alert-info\" role=\"alert\"><b>Note</b> that this lecture note gives a brief introduction to inheritance. I encourage you to read further about inheritance and composition.\n",
    "\n",
    "Read more \n",
    "\n",
    "- [w3schools - inheritance](https://www.w3schools.com/python/python_inheritance.asp). \n",
    "- [programiz - inheritance](https://www.programiz.com/python-programming/inheritance)\n",
    "- [RealPython - inheritance and composition](https://realpython.com/inheritance-composition-python/)\n",
    "\n",
    "---"
   ]
  },
  {
   "cell_type": "markdown",
   "metadata": {},
   "source": [
    "## Inheritance and composition\n",
    "\n",
    "- attributes from parent class are inherited to the child class and can be accessed directly\n",
    "- methods can be overridden in the child class\n",
    "- child class can extend functionality of the parent class \n",
    "- parent class should be more general and child classes more specific \n",
    "\n",
    "- inheritance has stronger coupled between classes and the relation: \"is a\", e.g. a Student is a Person\n",
    "- when changing in the parent class, it might affect the subclasses\n",
    "- when using inheritance, make sure that the relationship really is an \"is a\" relation and not a \"has a\"\n",
    "- composition has weaker coupling between classes and the relation: \"has a\", e.g. a Classroom has a Student\n"
   ]
  },
  {
   "cell_type": "code",
   "execution_count": 1,
   "metadata": {},
   "outputs": [
    {
     "name": "stdout",
     "output_type": "stream",
     "text": [
      "OldCoinStash(owner='Ragnar Lothbroke')\n",
      "Coins in stash: 0 riksdaler, 0 skilling\n",
      "Person Örjan  says hi\n",
      "Student Åke Olofsson knows Python\n",
      "Person Ragnar Lothbroke says hi\n"
     ]
    }
   ],
   "source": [
    "from lec13_oldcoins import OldCoinsStash\n",
    "import re \n",
    "\n",
    "class Person:\n",
    "    def __init__(self, name: str, age: int) -> None:\n",
    "        self.age = age \n",
    "        self.name = name \n",
    "\n",
    "    @property\n",
    "    def age(self) -> int:\n",
    "        return self._age\n",
    "\n",
    "    @age.setter\n",
    "    def age(self, value: int) -> None:\n",
    "        if not isinstance(value, (int, float)):\n",
    "            raise TypeError(f\"Age must be int or float not {type(value)}\")\n",
    "        self._age = value    \n",
    "\n",
    "    @property\n",
    "    def name(self) -> str:\n",
    "        return self._name\n",
    "\n",
    "    @name.setter\n",
    "    def name(self, value: str) -> None:\n",
    "        if re.search(r\"^[A-ö]+(\\s[A-ö]+)?$\", value.strip()) is None:\n",
    "            raise ValueError(f\"The value {value} is not a valid name\")\n",
    "        \n",
    "        self._name = value\n",
    "\n",
    "    def say_hi(self) -> None:\n",
    "        print(f\"Person {self.name} says hi\")\n",
    "\n",
    "class Student(Person):\n",
    "    \"\"\"A Student is a Person that knows a language\"\"\"\n",
    "    def __init__(self, name: str, age: int, language: str) -> None:\n",
    "        # self is injected through super()\n",
    "        # super() is used for calling the parent class method, this is delegation to parent\n",
    "        super().__init__(name, age) \n",
    "        self.language = language\n",
    "\n",
    "\n",
    "    # overrides say_hi() in Person class\n",
    "    def say_hi(self) -> None:\n",
    "        print(f\"Student {self.name} knows {self.language}\")\n",
    "\n",
    "class Viking(Person):\n",
    "    \"\"\"A Viking has an OldCoinsStash but is a Person\"\"\"\n",
    "    def __init__(self, name: str, age: int) -> None:\n",
    "        super().__init__(name, age)\n",
    "        self.stash = OldCoinsStash(name)\n",
    "\n",
    "p1 = Person(\"Örjan \", 55)\n",
    "s1 = Student(\"Åke Olofsson\", 25, \"Python\")\n",
    "v1 = Viking(\"Ragnar Lothbroke\", 50)\n",
    "\n",
    "print(v1.stash)\n",
    "print(v1.stash.check_balance())\n",
    "\n",
    "people = (p1, s1, v1)\n",
    "\n",
    "# polymorphic \n",
    "for person in people:\n",
    "    person.say_hi()\n",
    "    \n",
    "# note that the Viking does not have a say_hi() method and thus the parents say_hi() is called "
   ]
  },
  {
   "cell_type": "markdown",
   "metadata": {},
   "source": [
    "---\n",
    "\n",
    "Kokchun Giang\n",
    "\n",
    "[LinkedIn][linkedIn_kokchun]\n",
    "\n",
    "[GitHub portfolio][github_portfolio]\n",
    "\n",
    "[linkedIn_kokchun]: https://www.linkedin.com/in/kokchungiang/\n",
    "[github_portfolio]: https://github.com/kokchun/Portfolio-Kokchun-Giang\n",
    "\n",
    "---"
   ]
  }
 ],
 "metadata": {
  "kernelspec": {
   "display_name": "Python 3.9.6 ('Python-course-AI22-FPwBLMbm')",
   "language": "python",
   "name": "python3"
  },
  "language_info": {
   "codemirror_mode": {
    "name": "ipython",
    "version": 3
   },
   "file_extension": ".py",
   "mimetype": "text/x-python",
   "name": "python",
   "nbconvert_exporter": "python",
   "pygments_lexer": "ipython3",
   "version": "3.9.6"
  },
  "orig_nbformat": 4,
  "vscode": {
   "interpreter": {
    "hash": "3b136723b0d4708e16bf623335cc8688085bd3f1313316a001291a7f1d2024db"
   }
  }
 },
 "nbformat": 4,
 "nbformat_minor": 2
}
