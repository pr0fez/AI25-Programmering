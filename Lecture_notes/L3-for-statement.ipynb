{
 "cells": [
  {
   "cell_type": "markdown",
   "metadata": {},
   "source": [
    "\n",
    "<a href=\"https://colab.research.google.com/github/kokchun/Python-course-AI22/blob/main/Lecture_notes/L3-for-statement.ipynb\" target=\"_parent\"><img align=\"left\" src=\"https://colab.research.google.com/assets/colab-badge.svg\" alt=\"Open In Colab\"/></a> &nbsp; for interacting with the code"
   ]
  },
  {
   "cell_type": "markdown",
   "metadata": {},
   "source": [
    "---\n",
    "# Lecture notes - for-statement\n",
    "\n",
    "---\n",
    "This is the lecture note for **for-statement**, but it's built upon contents from previous lectures such as: \n",
    "- input-output\n",
    "- variables\n",
    "- if-statement\n",
    "\n",
    "for loop is used for repeating code by iterating over a sequence such as a list. \n",
    "\n",
    "Read more [w3schools - for loop](https://www.w3schools.com/python/python_for_loops.asp)\n",
    "\n",
    "---"
   ]
  },
  {
   "cell_type": "markdown",
   "metadata": {},
   "source": [
    "## range() function\n",
    "\n",
    "Used together with for loop to repeat code a certain number of times. \n",
    "\n",
    "```python\n",
    "for i in range(n): \n",
    "    print(i)\n",
    "```\n",
    "i will start from 0 and end with n-1. n must be an integer. \n",
    "\n",
    "```python\n",
    "for i in range(start, end, step):\n",
    "    print(i)\n",
    "``` \n",
    "prints i from start to end-1 with step as the increment"
   ]
  },
  {
   "cell_type": "code",
   "execution_count": 4,
   "metadata": {},
   "outputs": [
    {
     "name": "stdout",
     "output_type": "stream",
     "text": [
      "0 Hello\n",
      "1 Hello\n",
      "2 Hello\n"
     ]
    }
   ],
   "source": [
    "for i in range(3): # note that the count starts from 0\n",
    "    print(f\"{i} Hello\")"
   ]
  },
  {
   "cell_type": "code",
   "execution_count": 7,
   "metadata": {},
   "outputs": [
    {
     "name": "stdout",
     "output_type": "stream",
     "text": [
      "0 1 2 3 4 5 6 7 8 9 "
     ]
    }
   ],
   "source": [
    "# print out numbers without newlines\n",
    "for i in range(10):\n",
    "    print(i, end=\" \")"
   ]
  },
  {
   "cell_type": "code",
   "execution_count": null,
   "metadata": {},
   "outputs": [
    {
     "name": "stdout",
     "output_type": "stream",
     "text": [
      "0+1+2+3+4+5=15\n"
     ]
    },
    {
     "ename": "TypeError",
     "evalue": "'int' object is not callable",
     "output_type": "error",
     "traceback": [
      "\u001b[31m---------------------------------------------------------------------------\u001b[39m",
      "\u001b[31mTypeError\u001b[39m                                 Traceback (most recent call last)",
      "\u001b[36mCell\u001b[39m\u001b[36m \u001b[39m\u001b[32mIn[3]\u001b[39m\u001b[32m, line 8\u001b[39m\n\u001b[32m      4\u001b[39m     \u001b[38;5;28msum\u001b[39m += i\n\u001b[32m      6\u001b[39m \u001b[38;5;28mprint\u001b[39m(\u001b[33mf\u001b[39m\u001b[33m\"\u001b[39m\u001b[33m0+1+2+3+4+5=\u001b[39m\u001b[38;5;132;01m{\u001b[39;00m\u001b[38;5;28msum\u001b[39m\u001b[38;5;132;01m}\u001b[39;00m\u001b[33m\"\u001b[39m)\n\u001b[32m----> \u001b[39m\u001b[32m8\u001b[39m \u001b[38;5;28;43msum\u001b[39;49m\u001b[43m(\u001b[49m\u001b[43m[\u001b[49m\u001b[32;43m0\u001b[39;49m\u001b[43m,\u001b[49m\u001b[32;43m1\u001b[39;49m\u001b[43m,\u001b[49m\u001b[32;43m2\u001b[39;49m\u001b[43m,\u001b[49m\u001b[32;43m3\u001b[39;49m\u001b[43m,\u001b[49m\u001b[32;43m4\u001b[39;49m\u001b[43m,\u001b[49m\u001b[32;43m5\u001b[39;49m\u001b[43m]\u001b[49m\u001b[43m)\u001b[49m\n",
      "\u001b[31mTypeError\u001b[39m: 'int' object is not callable"
     ]
    }
   ],
   "source": [
    "sum = 0\n",
    "# calculate sum from 0-5\n",
    "for i in range(6): # note that 6\n",
    "    sum += i\n",
    "\n",
    "print(f\"0+1+2+3+4+5={sum}\")\n",
    "\n"
   ]
  },
  {
   "cell_type": "code",
   "execution_count": 31,
   "metadata": {},
   "outputs": [
    {
     "name": "stdout",
     "output_type": "stream",
     "text": [
      "1+3+5+7+9+11+13+15+17+19=100"
     ]
    }
   ],
   "source": [
    "sum = 0\n",
    "# calculate sum of all odd numbers between 1 and 100\n",
    "for i in range(1,20,2):\n",
    "    sum += i # addition\n",
    "\n",
    "    # nice printing\n",
    "    print(f\"{i}\", end = \"\")\n",
    "    if i != 19:\n",
    "        print(\"+\", end=\"\")\n",
    "\n",
    "    if i == 19:\n",
    "        print(f\"={sum}\", end=\"\")"
   ]
  },
  {
   "cell_type": "markdown",
   "metadata": {},
   "source": [
    "---\n",
    "## random module\n",
    "\n",
    "Used to generate random numbers. \n",
    "\n",
    "Read more: [w3schools - random module](https://www.w3schools.com/python/module_random.asp)"
   ]
  },
  {
   "cell_type": "code",
   "execution_count": null,
   "metadata": {},
   "outputs": [
    {
     "name": "stdout",
     "output_type": "stream",
     "text": [
      "Number of sixes 1672 in 10000 dice rolls\n",
      "Probability of six 0.1672\n"
     ]
    }
   ],
   "source": [
    "import random as rnd # the random module can now be accessed through rnd \n",
    "\n",
    "num_six = 0\n",
    "dice_rolls = 10000\n",
    "\n",
    "# dice simulations - count number of sixes \n",
    "for i in range(dice_rolls):\n",
    "    dice = rnd.randint(1,6) # generates a random integer between 1 and 6\n",
    "    if dice == 6:\n",
    "        num_six += 1\n",
    "\n",
    "print(f\"Number of sixes {num_six} in {dice_rolls} dice rolls\")  \n",
    "print(f\"Probability of six {num_six/dice_rolls}\")"
   ]
  },
  {
   "cell_type": "markdown",
   "metadata": {},
   "source": [
    "---\n",
    "## Loop through list\n",
    "\n",
    "A list is a data type to store several items in a variable. There will be a separate lecture note for lists.\n",
    "\n",
    "Read more [w3schools - lists](https://www.w3schools.com/python/python_lists.asp)"
   ]
  },
  {
   "cell_type": "code",
   "execution_count": 1,
   "metadata": {},
   "outputs": [
    {
     "name": "stdout",
     "output_type": "stream",
     "text": [
      "I love to eat\n",
      "apple\n",
      "orange\n",
      "grape\n",
      "strawberry\n"
     ]
    }
   ],
   "source": [
    "fruits = [\"apple\", \"orange\", \"grape\", \"strawberry\"]\n",
    "\n",
    "print(\"I love to eat\")\n",
    "for fruit in fruits: # variable fruit will contain a value at a time from fruits\n",
    "    print(fruit)"
   ]
  },
  {
   "cell_type": "code",
   "execution_count": 3,
   "metadata": {},
   "outputs": [
    {
     "name": "stdout",
     "output_type": "stream",
     "text": [
      "My favorite fruits are: \n",
      "1. apple\n",
      "2. orange\n",
      "3. grape\n",
      "4. strawberry\n"
     ]
    }
   ],
   "source": [
    "print(\"My favorite fruits are: \")\n",
    "# enumerate to get a number for each element in a list that you loop through\n",
    "for i, fruit in enumerate(fruits,1): # 1 gives the starting number\n",
    "    print(f\"{i}. {fruit}\")\n"
   ]
  },
  {
   "cell_type": "markdown",
   "metadata": {},
   "source": [
    "---\n",
    "## Nested for loop\n",
    "\n",
    "A for loop inside another for loop. The inner loop will run for each iteration of the outer loop."
   ]
  },
  {
   "cell_type": "code",
   "execution_count": null,
   "metadata": {},
   "outputs": [
    {
     "name": "stdout",
     "output_type": "stream",
     "text": [
      "(0,0)(0,1)(0,2)\n",
      "(1,0)(1,1)(1,2)\n",
      "(2,0)(2,1)(2,2)\n"
     ]
    }
   ],
   "source": [
    "# matrix coordinates\n",
    "out = []\n",
    "for x in range(0,3):\n",
    "    for j in range(0,3):\n",
    "        out += [(x,j)]\n",
    "        print(f\"({x},{j})\", end=\"\")    \n",
    "    print() \n",
    "\n",
    "print(out)"
   ]
  },
  {
   "cell_type": "markdown",
   "metadata": {},
   "source": [
    "---\n",
    "\n",
    "Kokchun Giang\n",
    "\n",
    "[LinkedIn][linkedIn_kokchun]\n",
    "\n",
    "[GitHub portfolio][github_portfolio]\n",
    "\n",
    "[linkedIn_kokchun]: https://www.linkedin.com/in/kokchungiang/\n",
    "[github_portfolio]: https://github.com/kokchun/Portfolio-Kokchun-Giang\n",
    "\n",
    "---"
   ]
  }
 ],
 "metadata": {
  "kernelspec": {
   "display_name": ".venv",
   "language": "python",
   "name": "python3"
  },
  "language_info": {
   "codemirror_mode": {
    "name": "ipython",
    "version": 3
   },
   "file_extension": ".py",
   "mimetype": "text/x-python",
   "name": "python",
   "nbconvert_exporter": "python",
   "pygments_lexer": "ipython3",
   "version": "3.13.7"
  },
  "orig_nbformat": 4
 },
 "nbformat": 4,
 "nbformat_minor": 2
}
