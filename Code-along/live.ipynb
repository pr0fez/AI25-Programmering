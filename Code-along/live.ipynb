{
 "cells": [
  {
   "cell_type": "code",
   "execution_count": 4,
   "id": "ab54a8c3",
   "metadata": {},
   "outputs": [
    {
     "data": {
      "text/plain": [
       "3"
      ]
     },
     "execution_count": 4,
     "metadata": {},
     "output_type": "execute_result"
    }
   ],
   "source": [
    "# Icke-standard representation av siffror\n",
    "one = \" \"\n",
    "two = \"uf\"\n",
    "three = \"€&!\"\n",
    "\n",
    "def plus(a, b):\n",
    "    return \" \" * (len(a) + len(b))\n",
    "\n",
    "len(plus(one, two))"
   ]
  },
  {
   "cell_type": "code",
   "execution_count": 5,
   "id": "73093738",
   "metadata": {},
   "outputs": [
    {
     "name": "stdout",
     "output_type": "stream",
     "text": [
      "-4\n"
     ]
    }
   ],
   "source": [
    "def plus_succ(a, b):\n",
    "    while abs(b) > 0:\n",
    "        a = a +1 if b > 0 else a - 1\n",
    "        b = b - 1 if b >0 else b + 1\n",
    "    return a \n",
    "print(plus_succ(-1, -3))"
   ]
  },
  {
   "cell_type": "code",
   "execution_count": 7,
   "id": "0f73fa8f",
   "metadata": {},
   "outputs": [
    {
     "data": {
      "text/plain": [
       "32"
      ]
     },
     "execution_count": 7,
     "metadata": {},
     "output_type": "execute_result"
    }
   ],
   "source": [
    "def mult(a, b):\n",
    "    c = 0\n",
    "    while abs(b) > 0:\n",
    "        c = plus_succ(c, a)\n",
    "        b = plus_succ(b, -1)\n",
    "    return c\n",
    "\n",
    "mult(2, 16)"
   ]
  },
  {
   "cell_type": "code",
   "execution_count": null,
   "id": "9720fb32",
   "metadata": {},
   "outputs": [],
   "source": [
    "print(f\"1+3 = {1+3}\")"
   ]
  }
 ],
 "metadata": {
  "kernelspec": {
   "display_name": ".venv",
   "language": "python",
   "name": "python3"
  },
  "language_info": {
   "codemirror_mode": {
    "name": "ipython",
    "version": 3
   },
   "file_extension": ".py",
   "mimetype": "text/x-python",
   "name": "python",
   "nbconvert_exporter": "python",
   "pygments_lexer": "ipython3",
   "version": "3.13.7"
  }
 },
 "nbformat": 4,
 "nbformat_minor": 5
}
