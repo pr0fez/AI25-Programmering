{
 "cells": [
  {
   "cell_type": "code",
   "execution_count": null,
   "id": "fb256d8d",
   "metadata": {},
   "outputs": [
    {
     "name": "stdout",
     "output_type": "stream",
     "text": [
      "-4\n"
     ]
    }
   ],
   "source": [
    "# En mer primitiv plus. I python ser det knepigt ut. I hårdvara finns en särskild \"plus ett\" (increment) och \"minus ett\" (decrement), i C skrivs dessa \"++\" och \"--\" (därav namnet C++, dvs \" C + 1\")\n",
    "# om minus tillåts, måste hänsyn tas så att loopen terminerar\n",
    "\n",
    "# addition kan ses som att flytta enheter från ena operanden till andra. \n",
    "def plus_succ(a, b):\n",
    "    while abs(b) > 0:\n",
    "        a = a + 1 if b > 0 else a - 1\n",
    "        b = b - 1 if b > 0 else b + 1\n",
    "    return a\n",
    "\n",
    "print(plus_succ(-1,-3))\n",
    "\n",
    "# på riktigt: two's-complement"
   ]
  },
  {
   "cell_type": "code",
   "execution_count": null,
   "id": "5d4cd71b",
   "metadata": {},
   "outputs": [
    {
     "data": {
      "text/plain": [
       "32"
      ]
     },
     "execution_count": 27,
     "metadata": {},
     "output_type": "execute_result"
    }
   ],
   "source": [
    "# lägg till a, b ggr\n",
    "def mult(a,b):\n",
    "    c = 0\n",
    "    while abs(b) > 0:\n",
    "        c = plus_succ(c, a)\n",
    "        b = plus_succ(b, -1)\n",
    "    return c    \n",
    "\n",
    "mult(2,16)"
   ]
  },
  {
   "cell_type": "code",
   "execution_count": null,
   "id": "3a99b80c",
   "metadata": {},
   "outputs": [],
   "source": [
    "# denna mycket svårare! jmf liggande stolen. Termineringsvillkor mycket svårare. Modulo och heltalsdivision. Flyttal.\n",
    "def div(a, b):\n",
    "    pass # ???"
   ]
  },
  {
   "cell_type": "code",
   "execution_count": 14,
   "id": "2c6c3340",
   "metadata": {},
   "outputs": [
    {
     "data": {
      "text/plain": [
       "3"
      ]
     },
     "execution_count": 14,
     "metadata": {},
     "output_type": "execute_result"
    }
   ],
   "source": [
    "# Icke-standard siffror representerat som längden på en sträng.\n",
    "one = \" \"\n",
    "two = \"ab\"\n",
    "three =\"€=q\"\n",
    "\n",
    "def plus(a, b):\n",
    "    return \" \" * (len(a) + len(b))\n",
    "\n",
    "len(plus(one, two))"
   ]
  },
  {
   "cell_type": "code",
   "execution_count": 1,
   "id": "e82c701d",
   "metadata": {},
   "outputs": [
    {
     "name": "stdout",
     "output_type": "stream",
     "text": [
      "1+3 = 4\n",
      "3*3 = 9\n",
      "8/1.5 = 5.333333333333333\n"
     ]
    }
   ],
   "source": [
    "# Allt detta redan implementerat maskinnära som +, - , * och 'div'\n",
    "print(f\"1+3 = {1+3}\")\n",
    "print(f\"3*3 = {3*3}\")\n",
    "print(f\"8/1.5 = {8/1.5}\")"
   ]
  }
 ],
 "metadata": {
  "kernelspec": {
   "display_name": ".venv",
   "language": "python",
   "name": "python3"
  },
  "language_info": {
   "codemirror_mode": {
    "name": "ipython",
    "version": 3
   },
   "file_extension": ".py",
   "mimetype": "text/x-python",
   "name": "python",
   "nbconvert_exporter": "python",
   "pygments_lexer": "ipython3",
   "version": "3.13.7"
  }
 },
 "nbformat": 4,
 "nbformat_minor": 5
}
